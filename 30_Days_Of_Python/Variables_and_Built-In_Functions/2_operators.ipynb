{
 "cells": [
  {
   "cell_type": "code",
   "execution_count": 1,
   "metadata": {},
   "outputs": [],
   "source": [
    "age = 25\n",
    "height = 5.9\n",
    "complex_number = 3 + 4j"
   ]
  },
  {
   "cell_type": "code",
   "execution_count": 2,
   "metadata": {},
   "outputs": [
    {
     "data": {
      "text/plain": [
       "1.9500000000000002"
      ]
     },
     "execution_count": 2,
     "metadata": {},
     "output_type": "execute_result"
    }
   ],
   "source": [
    "base = float(input(\"Please enter the base of the triangle:  \"))\n",
    "height = float(input(\"Please enter the height of the triangle:  \"))\n",
    "area_of_triangle = 0.5 * base * height\n",
    "area_of_triangle"
   ]
  },
  {
   "cell_type": "code",
   "execution_count": 3,
   "metadata": {},
   "outputs": [
    {
     "data": {
      "text/plain": [
       "8.0"
      ]
     },
     "execution_count": 3,
     "metadata": {},
     "output_type": "execute_result"
    }
   ],
   "source": [
    "side_a = float(input(\"Please enter the side `A` of the triangle:  \"))\n",
    "side_b = float(input(\"Please enter the side `B` of the triangle:  \"))\n",
    "side_c = float(input(\"Please enter the side `C` of the triangle:  \"))\n",
    "\n",
    "perimeter = side_a + side_b + side_c\n",
    "\n",
    "perimeter"
   ]
  },
  {
   "cell_type": "code",
   "execution_count": 4,
   "metadata": {},
   "outputs": [
    {
     "name": "stdout",
     "output_type": "stream",
     "text": [
      "Area of the rectangle: 9.0\n",
      "Perimeter of the rectangle: 12.0\n"
     ]
    }
   ],
   "source": [
    "length = float(input(\"Please enter the length of the rectangle: \"))\n",
    "width = float(input(\"Please enter the width of the rectangle: \"))\n",
    "\n",
    "area_rectangle = length * width\n",
    "\n",
    "perimeter_rectangle = 2 * (length + width)\n",
    "\n",
    "print(f\"Area of the rectangle: {area_rectangle}\")\n",
    "print(f\"Perimeter of the rectangle: {perimeter_rectangle}\")\n"
   ]
  },
  {
   "cell_type": "code",
   "execution_count": 5,
   "metadata": {},
   "outputs": [
    {
     "name": "stdout",
     "output_type": "stream",
     "text": [
      "Area of the circle: 50.26548245743669\n",
      "Circumference of the circle: 25.132741228718345\n"
     ]
    }
   ],
   "source": [
    "from math import pi\n",
    "\n",
    "radius = float(input(\"Please enter the radius of the circle: \"))\n",
    "\n",
    "area_circle = pi * radius**2\n",
    "\n",
    "circumference_circle = 2 * pi * radius\n",
    "\n",
    "print(f\"Area of the circle: {area_circle}\")\n",
    "print(f\"Circumference of the circle: {circumference_circle}\")\n"
   ]
  },
  {
   "cell_type": "code",
   "execution_count": 6,
   "metadata": {},
   "outputs": [
    {
     "name": "stdout",
     "output_type": "stream",
     "text": [
      "Slope: 3.0\n",
      "X-Intercept: -1.3333333333333333\n",
      "Y-Intercept: 4.0\n"
     ]
    }
   ],
   "source": [
    "m = float(input(\"Please enter the slope (m): \"))\n",
    "b = float(input(\"Please enter the y-intercept (b): \"))\n",
    "\n",
    "slope = m\n",
    "y_intercept = b\n",
    "x_intercept = -b / m\n",
    "\n",
    "print(f\"Slope: {slope}\")\n",
    "print(f\"X-Intercept: {x_intercept}\")\n",
    "print(f\"Y-Intercept: {y_intercept}\")\n"
   ]
  },
  {
   "cell_type": "code",
   "execution_count": 8,
   "metadata": {},
   "outputs": [
    {
     "name": "stdout",
     "output_type": "stream",
     "text": [
      "Slope: -3.0\n",
      "Euclidean Distance: 1.4142135623730951\n"
     ]
    }
   ],
   "source": [
    "import math\n",
    "\n",
    "x1 = float(input(\"Enter x1: \"))\n",
    "y1 = float(input(\"Enter y1: \"))\n",
    "x2 = float(input(\"Enter x2: \"))\n",
    "y2 = float(input(\"Enter y2: \"))\n",
    "\n",
    "slope_2 = (y2 - y1) / (x2 - x1)\n",
    "distance = math.sqrt((x2 - x1)**2 + (y2 - y1)**2)\n",
    "\n",
    "print(f\"Slope: {slope}\")\n",
    "print(f\"Euclidean Distance: {distance}\")\n"
   ]
  },
  {
   "cell_type": "code",
   "execution_count": 9,
   "metadata": {},
   "outputs": [
    {
     "name": "stdout",
     "output_type": "stream",
     "text": [
      "False\n"
     ]
    }
   ],
   "source": [
    "print(slope == slope_2)"
   ]
  },
  {
   "cell_type": "code",
   "execution_count": 10,
   "metadata": {},
   "outputs": [
    {
     "name": "stdout",
     "output_type": "stream",
     "text": [
      "x: -10, y: 49\n",
      "x: -9, y: 36\n",
      "x: -8, y: 25\n",
      "x: -7, y: 16\n",
      "x: -6, y: 9\n",
      "x: -5, y: 4\n",
      "x: -4, y: 1\n",
      "x: -3, y: 0\n",
      "y is 0 when x is -3\n"
     ]
    }
   ],
   "source": [
    "def calculate_y(x):\n",
    "    return x**2 + 6*x + 9\n",
    "\n",
    "x_values = range(-10, 1)\n",
    "for x in x_values:\n",
    "    y = calculate_y(x)\n",
    "    print(f\"x: {x}, y: {y}\")\n",
    "    if y == 0:\n",
    "        print(f\"y is 0 when x is {x}\")\n",
    "        break\n"
   ]
  },
  {
   "cell_type": "code",
   "execution_count": 12,
   "metadata": {},
   "outputs": [
    {
     "name": "stdout",
     "output_type": "stream",
     "text": [
      "Length of 'python': 6\n",
      "Length of 'dragon': 6\n",
      "Comparison Statement (length of 'python' > length of 'dragon'): False\n"
     ]
    }
   ],
   "source": [
    "length_python = len('python')\n",
    "length_dragon = len('dragon')\n",
    "\n",
    "falsy_comparison = length_python > length_dragon\n",
    "print(f\"Length of 'python': {length_python}\")\n",
    "print(f\"Length of 'dragon': {length_dragon}\")\n",
    "print(f\"Comparison Statement (length of 'python' > length of 'dragon'): {falsy_comparison}\")\n"
   ]
  },
  {
   "cell_type": "code",
   "execution_count": 21,
   "metadata": {},
   "outputs": [
    {
     "name": "stdout",
     "output_type": "stream",
     "text": [
      "True\n"
     ]
    }
   ],
   "source": [
    "print(('on' in 'python') and ('on' in 'dragon'))"
   ]
  },
  {
   "cell_type": "code",
   "execution_count": 22,
   "metadata": {},
   "outputs": [
    {
     "data": {
      "text/plain": [
       "True"
      ]
     },
     "execution_count": 22,
     "metadata": {},
     "output_type": "execute_result"
    }
   ],
   "source": [
    "sentence = 'I hope this course is not full of jargon'\n",
    "\n",
    "'jargon' in sentence"
   ]
  },
  {
   "cell_type": "code",
   "execution_count": 23,
   "metadata": {},
   "outputs": [
    {
     "name": "stdout",
     "output_type": "stream",
     "text": [
      "False\n"
     ]
    }
   ],
   "source": [
    "print(('on' not in 'python') and ('on' not in 'dragon'))"
   ]
  },
  {
   "cell_type": "code",
   "execution_count": 24,
   "metadata": {},
   "outputs": [
    {
     "data": {
      "text/plain": [
       "'6.0'"
      ]
     },
     "execution_count": 24,
     "metadata": {},
     "output_type": "execute_result"
    }
   ],
   "source": [
    "str(float(len('python')))"
   ]
  },
  {
   "cell_type": "code",
   "execution_count": 25,
   "metadata": {},
   "outputs": [
    {
     "data": {
      "text/plain": [
       "True"
      ]
     },
     "execution_count": 25,
     "metadata": {},
     "output_type": "execute_result"
    }
   ],
   "source": [
    "number = int(input(\"Please enter the number: \"))\n",
    "\n",
    "True if number % 2 == 0 else False"
   ]
  },
  {
   "cell_type": "code",
   "execution_count": 26,
   "metadata": {},
   "outputs": [
    {
     "data": {
      "text/plain": [
       "True"
      ]
     },
     "execution_count": 26,
     "metadata": {},
     "output_type": "execute_result"
    }
   ],
   "source": [
    "(7 // 3) == int(2.7)"
   ]
  },
  {
   "cell_type": "code",
   "execution_count": 27,
   "metadata": {},
   "outputs": [
    {
     "data": {
      "text/plain": [
       "False"
      ]
     },
     "execution_count": 27,
     "metadata": {},
     "output_type": "execute_result"
    }
   ],
   "source": [
    "type('10') == type(10)"
   ]
  },
  {
   "cell_type": "code",
   "execution_count": 31,
   "metadata": {},
   "outputs": [
    {
     "data": {
      "text/plain": [
       "False"
      ]
     },
     "execution_count": 31,
     "metadata": {},
     "output_type": "execute_result"
    }
   ],
   "source": [
    "int(float('9.8')) == 10"
   ]
  },
  {
   "cell_type": "code",
   "execution_count": 32,
   "metadata": {},
   "outputs": [
    {
     "name": "stdout",
     "output_type": "stream",
     "text": [
      "Your weekly earning is :   25.0\n"
     ]
    }
   ],
   "source": [
    "hours = float(input(\"Please enter the number of hours that you have worked for: \"))\n",
    "rate = float(input(\"Please enter your hourly rate: \"))\n",
    "print('Your weekly earning is :  ', hours*rate)"
   ]
  },
  {
   "cell_type": "code",
   "execution_count": 34,
   "metadata": {},
   "outputs": [
    {
     "data": {
      "text/plain": [
       "3153600000.0"
      ]
     },
     "execution_count": 34,
     "metadata": {},
     "output_type": "execute_result"
    }
   ],
   "source": [
    "years = float(input(\"Please enter the number of years: \"))\n",
    "years*365*24*3600\n"
   ]
  },
  {
   "cell_type": "code",
   "execution_count": 38,
   "metadata": {},
   "outputs": [
    {
     "name": "stdout",
     "output_type": "stream",
     "text": [
      "1 1 1 1 1\n",
      "2 1 2 4 8\n",
      "3 1 3 9 27\n",
      "4 1 4 16 64\n",
      "5 1 5 25 125\n"
     ]
    }
   ],
   "source": [
    "\n",
    "\n",
    "for i in range(1, 6):\n",
    "    l = []\n",
    "    l.append(i)\n",
    "    for j in range(4):\n",
    "        l.append(i**j)\n",
    "    l = \" \".join(str(s) for s in l)\n",
    "    print(l)"
   ]
  },
  {
   "cell_type": "code",
   "execution_count": null,
   "metadata": {},
   "outputs": [],
   "source": []
  }
 ],
 "metadata": {
  "kernelspec": {
   "display_name": "Python 3",
   "language": "python",
   "name": "python3"
  },
  "language_info": {
   "codemirror_mode": {
    "name": "ipython",
    "version": 3
   },
   "file_extension": ".py",
   "mimetype": "text/x-python",
   "name": "python",
   "nbconvert_exporter": "python",
   "pygments_lexer": "ipython3",
   "version": "3.11.9"
  }
 },
 "nbformat": 4,
 "nbformat_minor": 2
}
